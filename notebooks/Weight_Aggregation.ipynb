{
 "cells": [
  {
   "cell_type": "markdown",
   "metadata": {},
   "source": [
    "# Weight aggregation of Flower"
   ]
  },
  {
   "cell_type": "code",
   "execution_count": 34,
   "metadata": {},
   "outputs": [],
   "source": [
    "from functools import reduce\n",
    "\n",
    "import numpy as np"
   ]
  },
  {
   "cell_type": "code",
   "execution_count": 35,
   "metadata": {},
   "outputs": [],
   "source": [
    "def aggregate(results):\n",
    "    # Calculate the total number of examples used during training\n",
    "    num_examples_total = sum([num_examples for _, num_examples in results])\n",
    "    \n",
    "    # Create a list of weights, each multiplied by the related number of example\n",
    "    weighted_weights = [\n",
    "        [layer * num_examples for layer in weights] for weights, num_examples in results\n",
    "    ]\n",
    "    \n",
    "    # Compute average weights of each layer\n",
    "    weights_prime = [\n",
    "        reduce(np.add, layer_updates) / num_examples_total for layer_updates in zip(*weighted_weights)\n",
    "    ]\n",
    "    \n",
    "    return weights_prime"
   ]
  },
  {
   "cell_type": "markdown",
   "metadata": {},
   "source": [
    "## Example 1\n",
    "### Both clients have the same number of examples"
   ]
  },
  {
   "cell_type": "code",
   "execution_count": 41,
   "metadata": {},
   "outputs": [
    {
     "data": {
      "text/plain": [
       "[(array([[[10., 10., 10.],\n",
       "          [10., 10., 10.],\n",
       "          [10., 10., 10.]]]),\n",
       "  5000),\n",
       " (array([[[5., 5., 5.],\n",
       "          [5., 5., 5.],\n",
       "          [5., 5., 5.]]]),\n",
       "  5000)]"
      ]
     },
     "execution_count": 41,
     "metadata": {},
     "output_type": "execute_result"
    }
   ],
   "source": [
    "# define the weights and number of training instances of the first client\n",
    "# all weights are set to 10\n",
    "weights = np.ones(shape=(1,3,3)) * 10\n",
    "num_examples = 5000\n",
    "result_1 = (weights, num_examples)\n",
    "\n",
    "# define the weights and number of training instances of the second client\n",
    "# all weights are set to 5\n",
    "weights = np.ones(shape=(1,3,3)) * 5\n",
    "num_examples = 5000\n",
    "result_2 = (weights, num_examples)\n",
    "\n",
    "results = [result_1, result_2]\n",
    "results"
   ]
  },
  {
   "cell_type": "code",
   "execution_count": 42,
   "metadata": {},
   "outputs": [
    {
     "name": "stdout",
     "output_type": "stream",
     "text": [
      "[array([[7.5, 7.5, 7.5],\n",
      "       [7.5, 7.5, 7.5],\n",
      "       [7.5, 7.5, 7.5]])]\n"
     ]
    }
   ],
   "source": [
    "print(aggregate(results)) # what we expected"
   ]
  },
  {
   "cell_type": "markdown",
   "metadata": {},
   "source": [
    "## Example 2\n",
    "### Both clients have different number of examples"
   ]
  },
  {
   "cell_type": "code",
   "execution_count": 43,
   "metadata": {},
   "outputs": [
    {
     "data": {
      "text/plain": [
       "[(array([[[10., 10., 10.],\n",
       "          [10., 10., 10.],\n",
       "          [10., 10., 10.]]]),\n",
       "  5000),\n",
       " (array([[[5., 5., 5.],\n",
       "          [5., 5., 5.],\n",
       "          [5., 5., 5.]]]),\n",
       "  1000)]"
      ]
     },
     "execution_count": 43,
     "metadata": {},
     "output_type": "execute_result"
    }
   ],
   "source": [
    "# define the weights and number of training instances of the first client\n",
    "# all weights are set to 10\n",
    "weights = np.ones(shape=(1,3,3)) * 10\n",
    "num_examples = 5000\n",
    "result_1 = (weights, num_examples)\n",
    "\n",
    "# define the weights and number of training instances of the second client\n",
    "# all weights are set to 5\n",
    "weights = np.ones(shape=(1,3,3)) * 5\n",
    "num_examples = 1000\n",
    "result_2 = (weights, num_examples)\n",
    "\n",
    "results = [result_1, result_2]\n",
    "results"
   ]
  },
  {
   "cell_type": "code",
   "execution_count": 44,
   "metadata": {},
   "outputs": [
    {
     "name": "stdout",
     "output_type": "stream",
     "text": [
      "[array([[9.16666667, 9.16666667, 9.16666667],\n",
      "       [9.16666667, 9.16666667, 9.16666667],\n",
      "       [9.16666667, 9.16666667, 9.16666667]])]\n"
     ]
    }
   ],
   "source": [
    "print(aggregate(results)) # the result is shifted towards the result of the first client"
   ]
  }
 ],
 "metadata": {
  "kernelspec": {
   "display_name": "Python 3",
   "language": "python",
   "name": "python3"
  },
  "language_info": {
   "codemirror_mode": {
    "name": "ipython",
    "version": 3
   },
   "file_extension": ".py",
   "mimetype": "text/x-python",
   "name": "python",
   "nbconvert_exporter": "python",
   "pygments_lexer": "ipython3",
   "version": "3.7.9"
  }
 },
 "nbformat": 4,
 "nbformat_minor": 4
}
